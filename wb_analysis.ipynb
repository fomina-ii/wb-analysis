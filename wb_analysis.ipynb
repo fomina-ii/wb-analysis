{
 "cells": [
  {
   "cell_type": "code",
   "execution_count": 1,
   "metadata": {},
   "outputs": [],
   "source": [
    "import pandas as pd\n",
    "from datetime import datetime\n",
    "import re\n",
    "import math\n",
    "import matplotlib.pyplot as plt\n",
    "\n",
    "# Импортируем библиотеку для лемматизации русских слов\n",
    "import pymorphy2\n",
    "from nltk.tokenize import word_tokenize \n",
    "from nltk.corpus import stopwords"
   ]
  },
  {
   "cell_type": "code",
   "execution_count": null,
   "metadata": {},
   "outputs": [],
   "source": []
  },
  {
   "cell_type": "markdown",
   "metadata": {},
   "source": [
    "### Чтение готовых файлов"
   ]
  },
  {
   "cell_type": "code",
   "execution_count": 66,
   "metadata": {},
   "outputs": [],
   "source": [
    "specifications = pd.read_csv('Характеристики карточек.csv')\n",
    "sales = pd.read_csv('df_body.csv')\n",
    "filter_words = pd.read_csv('filter_words.csv', sep=';')"
   ]
  },
  {
   "cell_type": "markdown",
   "metadata": {},
   "source": []
  },
  {
   "attachments": {},
   "cell_type": "markdown",
   "metadata": {},
   "source": [
    "# Анализ товаров категории “Боди” на маркетплейсе Wildberries\n",
    "\n",
    "## Цели проекта:\n",
    "* Выявить, какие характеристики товара генерируют наибольшую прибыль;\n",
    "* Вывести список частотных ключевых слов, на основе которых будет составлено описание товара;\n",
    "* Предоставить отчет в удобном виде для владельца бизнеса для самостоятельного проведения анализа.\n",
    "\n",
    "Для получения данных о продажах заказчик предоставил в пользование сервис аналитики «Маяк». \n",
    "### Доступные данные с сервиса:\n",
    "* Артикул и наименование товара;\n",
    "* Кол-во продаж / упущенных продаж;\n",
    "* Выручка / упущенная выручка;\n",
    "* Цена (мин., сред., макс.);\n",
    "* Бренд и продавец.\n",
    "\n",
    "### Особенности работы:\n",
    "Сервис позволяет скачать данные по интересующей категории, однако таблица **не содержит дату продажи**.\n",
    "\n",
    "### Решение:\n",
    "Для динамического анализа продаж было принято решение выгружать отчеты за период «месяц», присваивать месяц продажи и объединять таблицы."
   ]
  },
  {
   "cell_type": "markdown",
   "metadata": {},
   "source": [
    "### Загрузка и объединение таблиц по продажам"
   ]
  },
  {
   "cell_type": "code",
   "execution_count": 2,
   "metadata": {},
   "outputs": [],
   "source": [
    "files = [['body_jan_21.xlsx', 'body_feb_21.xlsx', 'body_mar_21.xlsx', 'body_apr_21.xlsx', 'body_may_21.xlsx', 'body_jun_21.xlsx',\n",
    "         'body_jul_21.xlsx', 'body_aug_21.xlsx', 'body_sep_21.xlsx' , 'body_oct_21.xlsx', 'body_nov_21.xlsx', 'body_dec_21.xlsx'],\n",
    "        ['body_jan_22.xlsx', 'body_feb_22.xlsx', 'body_mar_22.xlsx', 'body_apr_22.xlsx', 'body_may_22.xlsx', 'body_jun_22.xlsx',\n",
    "         'body_jul_22.xlsx', 'body_aug_22.xlsx', 'body_sep_22.xlsx' , 'body_oct_22.xlsx', 'body_nov_22.xlsx', 'body_dec_22.xlsx']]\n",
    "\n",
    "# Создадим общую таблицу по продажам\n",
    "df_body = pd.DataFrame()\n",
    "\n",
    "for i in range(len(files)):\n",
    "    for j in range(len(files[i])):\n",
    "        year, mon, day = 2021+i, j+1, 1\n",
    "        # Загрузим данные по продажам 2021 года\n",
    "        df = pd.read_excel(files[i][j])\n",
    "        # Добавим столбец с датой\n",
    "        df['date'] = datetime(year, mon, day)\n",
    "        # Создадим уникальный идентификатор для последующей конкатенации таблиц\n",
    "        df['ID'] = df['sku_code'].astype(str) + df['date'].astype(str)\n",
    "        df_body = pd.concat([df_body, df])\n",
    "        \n",
    "# Выгрузим итоговый файл в формате csv для дальнейшего использования в Power BI\n",
    "df_body.to_csv('df_body.csv')"
   ]
  },
  {
   "cell_type": "code",
   "execution_count": null,
   "metadata": {},
   "outputs": [],
   "source": []
  },
  {
   "attachments": {},
   "cell_type": "markdown",
   "metadata": {},
   "source": [
    "## Парсинг данных\n",
    "Так как «Маяк» не предоставляет данные о характеристиках товара, было принято решение собрать эти данные самостоятельно.\n",
    "Для этого был реализован код (см. файл \"parsing.py\"), где с помощью библиотеки selenium и CSS и Xpath селекторов были получены следующие данные:\n",
    "* Артикул и рейтинг товара;\n",
    "* Фото товара;\n",
    "* Цвет;\n",
    "* Состав;\n",
    "* Описание;\n",
    "* Декоративные элементы и др.\n",
    "\n",
    "По согласованию с заказчиком в выборку вошли топ 1000 артикулов по показателю «количество продаж»."
   ]
  },
  {
   "cell_type": "markdown",
   "metadata": {},
   "source": [
    "### Создание ссылок для парсинга"
   ]
  },
  {
   "cell_type": "code",
   "execution_count": 4,
   "metadata": {},
   "outputs": [],
   "source": [
    "# Для расчета топ 1000 уникальных товаров достаточно оставить 2 столбца исходной таблицы\n",
    "df = df[['sku_code', 'sales']]\n",
    "\n",
    "# Создадим столбец со ссылкой на товар\n",
    "df.sku_code = df.sku_code.astype(str)\n",
    "df['urls'] = \"https://www.wildberries.ru/catalog/\" + df.sku_code + \"/detail.aspx\"\n",
    "\n",
    "# Сгруппируем по артикулу и суммируем выручку от продаж, отсортируем по убыванию\n",
    "df = df \\\n",
    "    .groupby('sku_code', as_index=False) \\\n",
    "    .agg({'sales': 'sum', 'urls': 'min'}) \\\n",
    "    .sort_values('sales', ascending=False) \\\n",
    "    .reset_index()\n",
    "\n",
    "# Выгрузим итоговый файл в формате csv\n",
    "df.urls.iloc[:1000].to_csv('urls_0_1000.csv')"
   ]
  },
  {
   "cell_type": "code",
   "execution_count": 34,
   "metadata": {},
   "outputs": [],
   "source": []
  },
  {
   "cell_type": "markdown",
   "metadata": {},
   "source": [
    "## Преобразование данных полученной таблицы"
   ]
  },
  {
   "cell_type": "code",
   "execution_count": 5,
   "metadata": {},
   "outputs": [],
   "source": [
    "parsing = pd.read_csv('parsing.csv')\n",
    "\n",
    "# Переименуем столбцы таблицы в удобные для анализа в Power BI\n",
    "specifications = parsing.T.rename({0: 'Артикул', 1: 'Наименование', 2: 'Рейтинг', 3: 'Состав', 4: 'Цвет', 5: 'Фото', \n",
    "6: 'Описание', 7: 'Фактура материала', 8: 'Вырез горловины', 9: 'Тип рукава', 10: 'Модель трусов', 11: 'Вид застежки',\n",
    "12: 'Декоративные элементы', 13: 'Особенности модели', 14: 'Рисунок', 15: 'Покрой', 16: 'Назначение', 17: 'Тип ростовки',\n",
    "18: 'Высота упаковки', 19: 'Длина упаковки', 20: 'Длина упаковки', 21: 'Уход за вещами', 22: 'Любимые герои',\n",
    "23: 'Параметры модели на фото (ОГ-ОТ-ОБ)', 24: 'Размер на модели', 25: 'Рост модели на фото', 26: 'Страна производства',\n",
    "27: 'Коллекция', 28: 'Комплектация', 29: 'Пол', 30: 'Сезон', 31: 'ТНВЭД'}, axis=1)\n",
    "\n",
    "# Удалим столбец с индексами\n",
    "specifications.drop(index=specifications.index[0], axis=0 , inplace=True )\n",
    "\n",
    "# Выгрузим итоговый файл в формате csv для дальнейшего использования в Power BI\n",
    "specifications.to_csv('Характеристики карточек.csv', index=False)"
   ]
  },
  {
   "cell_type": "code",
   "execution_count": null,
   "metadata": {},
   "outputs": [],
   "source": []
  },
  {
   "cell_type": "markdown",
   "metadata": {},
   "source": [
    "## Создание фильтров\n",
    "Ввиду отсутствия унифицированных правил заполнения карточек товара, в  данных присутсвуют весьма разрозненные данные. Так, необходимо создать фильтры по каждой категории. Для этого отберем только уникальные слова по каждой характеристике.\n",
    "\n",
    "Далее вручную определим ключевое слово и объединяющую категорию для каждой характеристике. Например, цвета \"изумрудный\" и \"травяной\" будут определены в одну категорию цвета \"Зеленый\", однако ключевое слово у каждой характеристике останется уникальным. Так как заранее мы не можем определить, какие слова могут быть использованы и наличие в этих словах ошибок и опечаток, проще всего эту работу выполнить в MS Excel. Итоговый файл: \"from_to.xlsx\"\n",
    "\n",
    "Ниже представлен алгоритм сбора уникальных слов по характеристикам."
   ]
  },
  {
   "cell_type": "markdown",
   "metadata": {},
   "source": [
    "### Цвет"
   ]
  },
  {
   "cell_type": "code",
   "execution_count": 21,
   "metadata": {},
   "outputs": [],
   "source": [
    "# Создадим список всех цветов, которые указали продавцы в карточках товара\n",
    "color = specifications['Цвет'].to_list()\n",
    "# Заменим регистр во всех словах на нижний и объединим список в одну строку\n",
    "color = \" \".join(map(str, color)).lower()\n",
    "# Разделим строку по перечисленным символам и получим список\n",
    "color = re.split('[,%; ]', color)\n",
    "# Оставим в списке только уникальные значения\n",
    "color = list(filter(None,set(color)))\n",
    "# Удалим из списка тире, \"и\" и пустые значения\n",
    "color = [i.lower() for i in color if i != '-' and i != 'и' and i != 'nan']\n",
    "print (' \\n'.join(color))"
   ]
  },
  {
   "cell_type": "markdown",
   "metadata": {},
   "source": [
    "### Ключевые слова \"модель трусов\""
   ]
  },
  {
   "cell_type": "code",
   "execution_count": 145,
   "metadata": {},
   "outputs": [],
   "source": [
    "panties = specifications['Модель трусов']\n",
    "panties = \" \".join(map(str, panties)).lower()\n",
    "panties = re.sub('(?<=\\[)(.*?)(?=\\])', 'nan', panties)\n",
    "panties = re.split(' ', panties)\n",
    "panties = list(filter(None,set(panties)))\n",
    "panties = [i.lower() for i in panties if i != '-' and i != 'и' and i != 'nan']\n",
    "print (' \\n'.join(panties))"
   ]
  },
  {
   "cell_type": "markdown",
   "metadata": {},
   "source": [
    "### Ключевые слова \"состав\""
   ]
  },
  {
   "cell_type": "code",
   "execution_count": 44,
   "metadata": {},
   "outputs": [],
   "source": [
    "sostav = specifications['Состав'].to_list()\n",
    "sostav = \" \".join(map(str, sostav)).lower()\n",
    "sostav = re.split('[,%; ]', sostav)\n",
    "for i in sostav:\n",
    "    if i.isdigit():\n",
    "        sostav.remove(i)\n",
    "sostav = list(filter(None,set(sostav)))\n",
    "sostav = [i.lower() for i in sostav if i != '-' and i != 'и' and i != 'nan']\n",
    "print (' \\n'.join(sostav))"
   ]
  },
  {
   "cell_type": "markdown",
   "metadata": {},
   "source": [
    "### Ключевые слова \"Вид застежки\""
   ]
  },
  {
   "cell_type": "code",
   "execution_count": 3,
   "metadata": {},
   "outputs": [],
   "source": [
    "zastezhka = specifications['Вид застежки'].to_list()\n",
    "zastezhka = [i for i in map(str, zastezhka) if i != 'nan']\n",
    "for i in zastezhka:\n",
    "    if '/' in i:\n",
    "        zastezhka.append(i.split(r'/')[0].strip())\n",
    "        zastezhka.append(i.split(r'/')[1].strip())\n",
    "    elif ';' in i:\n",
    "        zastezhka.append(i.split(r';')[0].strip())\n",
    "        zastezhka.append(i.split(r';')[1].strip())\n",
    "    elif ',' in i:\n",
    "        zastezhka.append(i.split(r',')[0].strip())\n",
    "        zastezhka.append(i.split(r',')[1].strip())\n",
    "zastezhka = [i.lower() for i in zastezhka if '/' not in i and ';' not in i and ',' not in i]\n",
    "zastezhka = list(set(zastezhka))\n",
    "print (' \\n'.join(zastezhka))"
   ]
  },
  {
   "cell_type": "markdown",
   "metadata": {},
   "source": [
    "### Ключевые слова \"Вырез горловины\""
   ]
  },
  {
   "cell_type": "code",
   "execution_count": 3,
   "metadata": {},
   "outputs": [],
   "source": [
    "vyrez = specifications['Вырез горловины'].to_list()\n",
    "vyrez = [i for i in map(str, vyrez) if i != 'nan']\n",
    "for i in vyrez:\n",
    "    if '/' in i:\n",
    "        vyrez.append(i.split(r'/')[0].strip())\n",
    "        vyrez.append(i.split(r'/')[1].strip())\n",
    "    elif ';' in i:\n",
    "        vyrez.append(i.split(r';')[0].strip())\n",
    "        vyrez.append(i.split(r';')[1].strip())\n",
    "    elif ',' in i:\n",
    "        vyrez.append(i.split(r',')[0].strip())\n",
    "        vyrez.append(i.split(r',')[1].strip())\n",
    "vyrez = [i.lower() for i in vyrez if '/' not in i and ';' not in i and ',' not in i]\n",
    "vyrez = list(set(vyrez))\n",
    "print (' \\n'.join(vyrez))"
   ]
  },
  {
   "cell_type": "markdown",
   "metadata": {},
   "source": [
    "### Ключевые слова \"Декоративные элементы\""
   ]
  },
  {
   "cell_type": "code",
   "execution_count": 6,
   "metadata": {},
   "outputs": [],
   "source": [
    "decor = specifications['Декоративные элементы'].to_list()\n",
    "decor = [i for i in map(str, decor) if i != 'nan']\n",
    "for i in decor:\n",
    "    if '/' in i:\n",
    "        decor.append(i.split(r'/')[0].strip())\n",
    "        decor.append(i.split(r'/')[1].strip())\n",
    "    elif ';' in i:\n",
    "        decor.append(i.split(r';')[0].strip())\n",
    "        decor.append(i.split(r';')[1].strip())\n",
    "    elif ',' in i:\n",
    "        decor.append(i.split(r',')[0].strip())\n",
    "        decor.append(i.split(r',')[1].strip())\n",
    "decor = [i.lower() for i in decor if '/' not in i and ';' not in i and ',' not in i]\n",
    "decor = list(set(decor))\n",
    "print (' \\n'.join(decor))"
   ]
  },
  {
   "cell_type": "markdown",
   "metadata": {},
   "source": [
    "### Ключевые слова \"Особенности модели\""
   ]
  },
  {
   "cell_type": "code",
   "execution_count": 8,
   "metadata": {},
   "outputs": [],
   "source": [
    "osobennosty = specifications['Особенности модели'].to_list()\n",
    "osobennosty = [i for i in map(str, osobennosty) if i != 'nan']\n",
    "for i in osobennosty:\n",
    "    if '/' in i:\n",
    "        osobennosty.append(i.split(r'/')[0].strip())\n",
    "        osobennosty.append(i.split(r'/')[1].strip())\n",
    "    elif ';' in i:\n",
    "        osobennosty.append(i.split(r';')[0].strip())\n",
    "        osobennosty.append(i.split(r';')[1].strip())\n",
    "    elif ',' in i:\n",
    "        osobennosty.append(i.split(r',')[0].strip())\n",
    "        osobennosty.append(i.split(r',')[1].strip())\n",
    "osobennosty = [i.lower() for i in osobennosty if '/' not in i and ';' not in i and ',' not in i]\n",
    "osobennosty = list(set(osobennosty))\n",
    "print (' \\n'.join(osobennosty))"
   ]
  },
  {
   "cell_type": "markdown",
   "metadata": {},
   "source": [
    "### Ключевые слова \"Рисунок\""
   ]
  },
  {
   "cell_type": "code",
   "execution_count": 6,
   "metadata": {},
   "outputs": [],
   "source": [
    "risunok = specifications['Рисунок'].to_list()\n",
    "risunok = [i for i in map(str, risunok) if i != 'nan']\n",
    "for i in risunok:\n",
    "    if '/' in i:\n",
    "        risunok.append(i.split(r'/')[0].strip())\n",
    "        risunok.append(i.split(r'/')[1].strip())\n",
    "    elif ';' in i:\n",
    "        risunok.append(i.split(r';')[0].strip())\n",
    "        risunok.append(i.split(r';')[1].strip())\n",
    "    elif ',' in i:\n",
    "        risunok.append(i.split(r',')[0].strip())\n",
    "        risunok.append(i.split(r',')[1].strip())\n",
    "risunok = [i.lower() for i in risunok if '/' not in i and ';' not in i and ',' not in i]\n",
    "risunok = list(set(risunok))\n",
    "print (' \\n'.join(risunok))"
   ]
  },
  {
   "cell_type": "markdown",
   "metadata": {},
   "source": [
    "### Ключевые слова \"Тип ростовки\""
   ]
  },
  {
   "cell_type": "code",
   "execution_count": 14,
   "metadata": {},
   "outputs": [],
   "source": [
    "rostovka = specifications['Тип ростовки'].to_list()\n",
    "rostovka = [i for i in map(str, rostovka) if i != 'nan']\n",
    "for i in rostovka:\n",
    "    if '/' in i:\n",
    "        rostovka.append(i.split(r'/')[0].strip())\n",
    "        rostovka.append(i.split(r'/')[1].strip())\n",
    "    elif ';' in i:\n",
    "        rostovka.append(i.split(r';')[0].strip())\n",
    "        rostovka.append(i.split(r';')[1].strip())\n",
    "    elif ',' in i:\n",
    "        rostovka.append(i.split(r',')[0].strip())\n",
    "        rostovka.append(i.split(r',')[1].strip())\n",
    "rostovka = [i.lower() for i in rostovka if '/' not in i and ';' not in i and ',' not in i]\n",
    "rostovka = list(set(rostovka))\n",
    "print (' \\n'.join(rostovka))"
   ]
  },
  {
   "cell_type": "markdown",
   "metadata": {},
   "source": [
    "### Ключевые слова \"Тип рукава\""
   ]
  },
  {
   "cell_type": "code",
   "execution_count": 16,
   "metadata": {},
   "outputs": [],
   "source": [
    "rukava = specifications['Тип рукава'].to_list()\n",
    "rukava = [i for i in map(str, rukava) if i != 'nan']\n",
    "rukava = [i.lower() for i in rukava]\n",
    "rukava = list(set(rukava))\n",
    "print (' \\n'.join(rukava))"
   ]
  },
  {
   "cell_type": "markdown",
   "metadata": {},
   "source": [
    "### Ключевые слова \"Фактура материала\""
   ]
  },
  {
   "cell_type": "code",
   "execution_count": 18,
   "metadata": {},
   "outputs": [],
   "source": [
    "material = specifications['Фактура материала'].to_list()\n",
    "material = [i for i in map(str, material) if i != 'nan']\n",
    "for i in material:\n",
    "    if '/' in i:\n",
    "        material.append(i.split(r'/')[0].strip())\n",
    "        material.append(i.split(r'/')[1].strip())\n",
    "    elif ';' in i:\n",
    "        material.append(i.split(r';')[0].strip())\n",
    "        material.append(i.split(r';')[1].strip())\n",
    "    elif ',' in i:\n",
    "        material.append(i.split(r',')[0].strip())\n",
    "        material.append(i.split(r',')[1].strip())\n",
    "material = [i.lower() for i in material if '/' not in i and ';' not in i and ',' not in i]\n",
    "material = list(set(material))\n",
    "print (' \\n'.join(material))"
   ]
  },
  {
   "cell_type": "markdown",
   "metadata": {},
   "source": [
    "### Ключевые слова \"Назначение\""
   ]
  },
  {
   "cell_type": "code",
   "execution_count": 20,
   "metadata": {},
   "outputs": [],
   "source": [
    "purpose = specifications['Назначение'].to_list()\n",
    "purpose = [i for i in map(str, purpose) if i != 'nan']\n",
    "for i in purpose:\n",
    "    if '/' in i:\n",
    "        purpose.append(i.split(r'/')[0].strip())\n",
    "        purpose.append(i.split(r'/')[1].strip())\n",
    "    elif ';' in i:\n",
    "        purpose.append(i.split(r';')[0].strip())\n",
    "        purpose.append(i.split(r';')[1].strip())\n",
    "    elif ',' in i:\n",
    "        purpose.append(i.split(r',')[0].strip())\n",
    "        purpose.append(i.split(r',')[1].strip())\n",
    "purpose = [i.lower() for i in purpose if '/' not in i and ';' not in i and ',' not in i]\n",
    "purpose = list(set(purpose))\n",
    "print (' \\n'.join(purpose))"
   ]
  },
  {
   "cell_type": "markdown",
   "metadata": {},
   "source": [
    "### Ключевые слова \"Коллекция\""
   ]
  },
  {
   "cell_type": "code",
   "execution_count": 22,
   "metadata": {},
   "outputs": [],
   "source": [
    "collection = specifications['Коллекция'].to_list()\n",
    "collection = [i for i in map(str, collection) if i != 'nan']\n",
    "for i in collection:\n",
    "    if '/' in i:\n",
    "        collection.append(i.split(r'/')[0].strip())\n",
    "        collection.append(i.split(r'/')[1].strip())\n",
    "    elif ';' in i:\n",
    "        collection.append(i.split(r';')[0].strip())\n",
    "        collection.append(i.split(r';')[1].strip())\n",
    "    elif ',' in i:\n",
    "        collection.append(i.split(r',')[0].strip())\n",
    "        collection.append(i.split(r',')[1].strip())\n",
    "collection = [i.lower() for i in collection if '/' not in i and ';' not in i and ',' not in i]\n",
    "collection = list(set(collection))\n",
    "print (' \\n'.join(collection))"
   ]
  },
  {
   "cell_type": "code",
   "execution_count": null,
   "metadata": {},
   "outputs": [],
   "source": []
  },
  {
   "cell_type": "markdown",
   "metadata": {},
   "source": [
    "# Эти категории используются как ключевики\n",
    "### Ключевые слова \"Любимые герои\""
   ]
  },
  {
   "cell_type": "code",
   "execution_count": 27,
   "metadata": {},
   "outputs": [],
   "source": [
    "heros = specifications['Любимые герои'].to_list()\n",
    "heros = [i for i in map(str, heros) if i != 'nan']\n",
    "new_list = []\n",
    "for i in heros:\n",
    "    new_list.extend(i.split(' '))\n",
    "heros = [i.lower() for i in new_list if '/' not in i and ';' not in i and ',' not in i]\n",
    "heros = list(set(heros))\n",
    "heros.sort()\n",
    "print (' \\n'.join(heros))"
   ]
  },
  {
   "cell_type": "markdown",
   "metadata": {},
   "source": [
    "### Ключевые слова \"Комплектация\""
   ]
  },
  {
   "cell_type": "code",
   "execution_count": 30,
   "metadata": {},
   "outputs": [],
   "source": [
    "complection = specifications['Комплектация'].to_list()\n",
    "complection = [i for i in map(str, complection) if i != 'nan']\n",
    "complection = list(set(complection))\n",
    "new_list = []\n",
    "for i in complection:\n",
    "    new_list.extend(i.split(' '))\n",
    "complection = [i.lower() for i in new_list if '/' not in i and ';' not in i and ',' not in i]\n",
    "complection = list(set(complection))\n",
    "complection.sort()\n",
    "print (' \\n'.join(complection))"
   ]
  },
  {
   "cell_type": "markdown",
   "metadata": {},
   "source": [
    "### Ключевые слова \"Наименование\""
   ]
  },
  {
   "cell_type": "code",
   "execution_count": 4,
   "metadata": {},
   "outputs": [],
   "source": [
    "names = specifications['name'].to_list()\n",
    "new_list = []\n",
    "for i in names:\n",
    "    new_list.extend(str(i).split(' '))\n",
    "names = [i.lower() for i in new_list if '/' not in i and ';' not in i and ',' not in i]\n",
    "names = list(set(names))\n",
    "names.sort()\n",
    "print (' \\n'.join(names))"
   ]
  },
  {
   "cell_type": "code",
   "execution_count": null,
   "metadata": {},
   "outputs": [],
   "source": []
  },
  {
   "cell_type": "markdown",
   "metadata": {},
   "source": [
    "## Получение списка ключевых слов\n",
    "Одной из задач заказчика является выбор ключевых слов, которые можно использовать в описании товара для более качественного продвижения карточки товара и отображения карточки на топовых позициях страницы. Для этого сгенерируем список слов, которые используют продавцы, не учитывая окончания слов и словоформы."
   ]
  },
  {
   "cell_type": "code",
   "execution_count": 15,
   "metadata": {},
   "outputs": [],
   "source": [
    "# Сохраним все описания товаров в список\n",
    "description = specifications['Описание'].to_list()\n",
    "\n",
    "# Переведем список в строку\n",
    "description = ' '.join(map(str, description))\n",
    "\n",
    "# Создадим токены для каждого слова в строке с помощью nltk.tokenize\n",
    "description = word_tokenize(description)\n",
    "\n",
    "# Объявим лемматайзер для дальнейшей обработки с помощью pymorphy2\n",
    "lemmatizer = pymorphy2.MorphAnalyzer()"
   ]
  },
  {
   "cell_type": "code",
   "execution_count": 16,
   "metadata": {},
   "outputs": [],
   "source": [
    "# Функция для лемматизации текста, на вход принимает список токенов \n",
    "def lemmatize_text(tokens):\n",
    "    # создаем переменную для хранения преобразованного текста\n",
    "    text_new = ''\n",
    "    # Для каждого токена в тексте\n",
    "    for word in tokens:\n",
    "        # С помощью лемматайзера получаем основную форму\n",
    "        word = lemmatizer.parse(word)\n",
    "        # Добавляем полученную лемму в переменную с преобразованным текстом\n",
    "        text_new = text_new + ' ' + word[0].normal_form\n",
    "    # Возвращаем преобразованный текст\n",
    "    return text_new"
   ]
  },
  {
   "cell_type": "code",
   "execution_count": null,
   "metadata": {},
   "outputs": [],
   "source": [
    "description = lemmatize_text(description)\n",
    "description = description_2.split(' ')\n",
    "description.to_csv('Ключевые слова.csv')"
   ]
  },
  {
   "cell_type": "markdown",
   "metadata": {},
   "source": [
    "Дальнейшее преобразование происходит в **MS Excel** с помощью ручной обработки ключевых слов на предмет ошибок, создания сводных таблиц, и создания нового столбца, содержащего часть речи ключевого слова. Часть речи присваивается ключевому слову с помощью вложенной формулы =ЕСЛИ(ЕЧИСЛО(ПОИСК(A48;\"ть\")); \"глагол\"; ЕСЛИ........)))) по следующим правилам:\n",
    "* если слово содержит \"ть\" - то это глагол;\n",
    "* если слово содержить \"ий\", \"ый\", \"ой\" - то это прилагательное;\n",
    "* остальные слова - существительные.\n",
    "\n",
    "Итоговый файл: \"Ключевые слова.csv\""
   ]
  },
  {
   "cell_type": "code",
   "execution_count": 83,
   "metadata": {},
   "outputs": [],
   "source": []
  },
  {
   "cell_type": "markdown",
   "metadata": {},
   "source": [
    "# Подведение итогов\n"
   ]
  },
  {
   "cell_type": "markdown",
   "metadata": {},
   "source": [
    "Готовый дашборд расположен по ссылке: https://clck.ru/33ZtHU\n",
    "\n",
    "## Описание страниц дашборда\n",
    "### 1. Динамика\n",
    "\n",
    "Страница отвечает на вопросы:\n",
    "* Как изменялось количество продаж в течение двух лет?\n",
    "* Как изменялась сумма выручки в течение двух лет?\n",
    "* Как изменялось количество товаров в течение двух лет?\n",
    "* Как изменялась средняя цена в течение двух лет?\n",
    "* Как изменялись все вышеперечисленные метрики в разрезе фильтров:\n",
    "    * Ткань;\n",
    "    * Цвет;\n",
    "    * Тип рукава;\n",
    "    * Трусы;\n",
    "    * Вырез;\n",
    "    * Декор.\n",
    "    \n",
    "Примечание: наименование метрик \"Продажи\", \"Выручка\", \"Товары\", \"Средняя цена\" **кликабельны**. В левом верхнем углу присутствует фильтр по годам.\n",
    "\n",
    "### 2. Детализация\n",
    "\n",
    "Страница отвечает на вопросы:\n",
    "* Как хорошо продаются товары каждой подкатегории?\n",
    "* Сколько товаров продается по каждой подкатегории?\n",
    "* Какую выручку приносит каждая подкатегория?\n",
    "* Какие самые популярные товары в этой подкатегории?\n",
    "    \n",
    "Примечание: каждая строчка в верхней таблице кликабельна. При клике на строчку фильтруется нижняя таблица по принципу \"6 топовых товаров подкатегории\". При отсутствии выбранной подкатегории появляется \"пустой\" товар, - это происходит потому, что развернутые характеристики содержат лишь 1000 (топовых) артикулов из 10000 существующих, соответственно, в этой колонке \"зашиты\" все остальные 9000 товаров. В левом верхнем углу присутствует фильтр по годам.\n",
    "\n",
    "### 3. Таблица\n",
    "Страница отвечает на вопросы:\n",
    "* Какие данные указывал продавец в каждой карточке товара?\n",
    "* Какие есть товары по выбранной подкатегории?\n",
    "\n",
    "Примечание: в левом верхнем углу присутствует поиск по артикулу. Это опцию можно использовать, если необходимо узнать более точную информацию по выбранному товару, найденному на предыдущей странице.\n",
    "\n",
    "### 4. Ключевые слова\n",
    "Страница отвечает на вопрос:\n",
    "* Какие ключевые слова в разрезе частей речи чаще всего используют продавцы WB?\n",
    "Примечание: в левом верхнем углу присутствует фильтр по годам.\n",
    "\n",
    "### 5. Идеальный боди\n",
    "Страница отвечает на вопросы:\n",
    "* Какие характеристики являются самыми продающими в разрезе базового и трендового продукта?\n",
    "* Какие товары являются самыми показательными в разрезе подкатегорий?\n",
    "\n",
    "Примечание: в левом верхнем углу присутствует фильтр по базовому и трендовому товару."
   ]
  },
  {
   "cell_type": "code",
   "execution_count": null,
   "metadata": {},
   "outputs": [],
   "source": []
  }
 ],
 "metadata": {
  "kernelspec": {
   "display_name": "Python 3",
   "language": "python",
   "name": "python3"
  },
  "language_info": {
   "codemirror_mode": {
    "name": "ipython",
    "version": 3
   },
   "file_extension": ".py",
   "mimetype": "text/x-python",
   "name": "python",
   "nbconvert_exporter": "python",
   "pygments_lexer": "ipython3",
   "version": "3.7.3"
  }
 },
 "nbformat": 4,
 "nbformat_minor": 4
}
